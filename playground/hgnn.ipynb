{
 "cells": [
  {
   "cell_type": "code",
   "execution_count": 2,
   "id": "c487566d-f419-4360-92be-12c83cd6080b",
   "metadata": {},
   "outputs": [],
   "source": [
    "import networkx as nx \n",
    "import matplotlib.pyplot as plt \n",
    "%display latex"
   ]
  },
  {
   "cell_type": "markdown",
   "id": "286346b4-726f-4b4e-8243-5f167e5ac502",
   "metadata": {},
   "source": [
    "### _Helpers to plot an HyperGraph_:"
   ]
  },
  {
   "cell_type": "code",
   "execution_count": 3,
   "id": "6bc74f03-cf52-4f71-a0d1-9320454d8f02",
   "metadata": {},
   "outputs": [],
   "source": [
    "class Edge:\n",
    "    def __init__(self, nodes, color=\"black\"):\n",
    "        self.nodes = nodes\n",
    "        self.color = color\n",
    "\n",
    "    def __str__(self):\n",
    "        return f\"{self.nodes}, {self.color}\"\n",
    "    \n",
    "    def __repr__(self):\n",
    "        return self.__str__()\n",
    "\n",
    "class HyperGraph:\n",
    "    def __init__(self, nodes, hyper_edges):\n",
    "        self.nodes = nodes\n",
    "        self.hyper_edges = hyper_edges\n",
    "        self.hyper_nodes = None\n",
    "        self.simple_edges = None\n",
    "        self._colors = ['red', 'blue', 'green', 'purple', 'orange']\n",
    "\n",
    "    def init_simple_edges(self):\n",
    "        self.hyper_nodes = []\n",
    "        self.simple_edges = []\n",
    "        for e, vertices in enumerate(self.hyper_edges):\n",
    "            if len(vertices) >= 3: \n",
    "                hyper_edge = f\"e{e}\"\n",
    "                self.hyper_nodes.append(hyper_edge)\n",
    "                color = self._colors.pop()\n",
    "                for v in vertices:\n",
    "                    self.simple_edges.append(Edge((hyper_edge, v), color))\n",
    "            else: \n",
    "                self.simple_edges.append(Edge(vertices))\n",
    "\n",
    "    def simple_edges_to_list(self):\n",
    "        return [edge.nodes for edge in self.simple_edges]\n",
    "\n",
    "    def plot(self):\n",
    "        g = nx.Graph()\n",
    "        g.add_edges_from(hg.simple_edges_to_list())\n",
    "        pos = nx.spring_layout(g)\n",
    "        nx.draw_networkx_nodes(g, pos, nodelist=hg.nodes)\n",
    "        for edge in hg.simple_edges:\n",
    "            nx.draw_networkx_edges(g, pos, edgelist=[edge.nodes], edge_color=edge.color)\n",
    "        labels = {node: node for node in self.nodes}\n",
    "        nx.draw_networkx_labels(g, pos, labels)\n",
    "        plt.show()"
   ]
  },
  {
   "cell_type": "markdown",
   "id": "541e3699-76fe-4614-934f-289ba59d58a0",
   "metadata": {},
   "source": [
    "## Simple HyperGraph"
   ]
  },
  {
   "cell_type": "code",
   "execution_count": 15,
   "id": "7f148aaf-219a-4387-9b02-34eb84ec0d82",
   "metadata": {},
   "outputs": [
    {
     "data": {
      "image/png": "[encoded data removed]",
      "text/plain": [
       "<Figure size 640x480 with 1 Axes>"
      ]
     },
     "metadata": {},
     "output_type": "display_data"
    }
   ],
   "source": [
    "nodes = [1, 2, 3, 4]\n",
    "hyper_edges = [\n",
    "    (1, 2, 3),\n",
    "    (2, 3, 4),\n",
    "]\n",
    "hg = HyperGraph(nodes, hyper_edges)\n",
    "hg.init_simple_edges()\n",
    "hg.plot()"
   ]
  },
  {
   "cell_type": "markdown",
   "id": "52082794-dde1-4458-b889-eec9556b094a",
   "metadata": {},
   "source": [
    "Variables preparation to compute $X_{HG}^{(l)}$:\n",
    "$$\n",
    "X_{HG}^{(l)} = D_v^{-1/2}H W^{(l)} D^{-1}_e H^T D^{1/2} X_{HG}^{(l-1)} \n",
    "$$\n",
    "\n",
    "De_m $= D^{-1}_e$ \n",
    "\n",
    "Dv_m12 $= D_v^{-1/2}$\n",
    "\n",
    "Dv_12 $= D_v^{1/2}$"
   ]
  },
  {
   "cell_type": "code",
   "execution_count": 5,
   "id": "09907a55-7830-42c5-b4ba-caa1851717e2",
   "metadata": {},
   "outputs": [],
   "source": [
    "H = matrix([[1, 0], [1, 1], [1, 1], [0, 1]])\n",
    "diag_de = [3, 3]\n",
    "De = diagonal_matrix(diag_de)\n",
    "De_m = diagonal_matrix([1/d for d in diag_de])\n",
    "x, y, z, t = var(\"x y z t\")\n",
    "e1, e2 = var(\"e_1 e_2\")\n",
    "diag_dv = [e1, e1+e2, e1+e2, e2]\n",
    "Dv = diagonal_matrix(diag_dv)\n",
    "Dv_m12 = diagonal_matrix([d^(-1/2) for d in diag_dv])\n",
    "Dv_12 = diagonal_matrix([d^(1/2) for d in diag_dv])\n",
    "X = matrix([x, y, z, t]).transpose()\n",
    "W = diagonal_matrix([e1, e2])"
   ]
  },
  {
   "cell_type": "markdown",
   "id": "8d8542a4-77ae-450f-bcd6-f4c3d9568c6b",
   "metadata": {},
   "source": [
    "Paper's equation:\n",
    "$$\n",
    "X_{HG}^{(l)} = D_v^{-1/2}H W^{(l)} D^{-1}_e H^T D^{1/2} X_{HG}^{(l-1)}\n",
    "$$"
   ]
  },
  {
   "cell_type": "code",
   "execution_count": 12,
   "id": "80480e01-5ec2-4c64-aea1-26cdfac01742",
   "metadata": {},
   "outputs": [
    {
     "data": {
      "text/html": [
       "<html>\\(\\displaystyle \\left(\\begin{array}{r}\n",
       "\\frac{1}{3} \\, e_{1} x + \\frac{1}{3} \\, \\sqrt{e_{1} + e_{2}} \\sqrt{e_{1}} y + \\frac{1}{3} \\, \\sqrt{e_{1} + e_{2}} \\sqrt{e_{1}} z \\\\\n",
       "\\frac{1}{3} \\, \\sqrt{e_{1} + e_{2}} y {\\left(\\frac{e_{1}}{\\sqrt{e_{1} + e_{2}}} + \\frac{e_{2}}{\\sqrt{e_{1} + e_{2}}}\\right)} + \\frac{1}{3} \\, \\sqrt{e_{1} + e_{2}} z {\\left(\\frac{e_{1}}{\\sqrt{e_{1} + e_{2}}} + \\frac{e_{2}}{\\sqrt{e_{1} + e_{2}}}\\right)} + \\frac{e_{2}^{\\frac{3}{2}} t}{3 \\, \\sqrt{e_{1} + e_{2}}} + \\frac{e_{1}^{\\frac{3}{2}} x}{3 \\, \\sqrt{e_{1} + e_{2}}} \\\\\n",
       "\\frac{1}{3} \\, \\sqrt{e_{1} + e_{2}} y {\\left(\\frac{e_{1}}{\\sqrt{e_{1} + e_{2}}} + \\frac{e_{2}}{\\sqrt{e_{1} + e_{2}}}\\right)} + \\frac{1}{3} \\, \\sqrt{e_{1} + e_{2}} z {\\left(\\frac{e_{1}}{\\sqrt{e_{1} + e_{2}}} + \\frac{e_{2}}{\\sqrt{e_{1} + e_{2}}}\\right)} + \\frac{e_{2}^{\\frac{3}{2}} t}{3 \\, \\sqrt{e_{1} + e_{2}}} + \\frac{e_{1}^{\\frac{3}{2}} x}{3 \\, \\sqrt{e_{1} + e_{2}}} \\\\\n",
       "\\frac{1}{3} \\, e_{2} t + \\frac{1}{3} \\, \\sqrt{e_{1} + e_{2}} \\sqrt{e_{2}} y + \\frac{1}{3} \\, \\sqrt{e_{1} + e_{2}} \\sqrt{e_{2}} z\n",
       "\\end{array}\\right)\\)</html>"
      ],
      "text/latex": [
       "$\\displaystyle \\left(\\begin{array}{r}\n",
       "\\frac{1}{3} \\, e_{1} x + \\frac{1}{3} \\, \\sqrt{e_{1} + e_{2}} \\sqrt{e_{1}} y + \\frac{1}{3} \\, \\sqrt{e_{1} + e_{2}} \\sqrt{e_{1}} z \\\\\n",
       "\\frac{1}{3} \\, \\sqrt{e_{1} + e_{2}} y {\\left(\\frac{e_{1}}{\\sqrt{e_{1} + e_{2}}} + \\frac{e_{2}}{\\sqrt{e_{1} + e_{2}}}\\right)} + \\frac{1}{3} \\, \\sqrt{e_{1} + e_{2}} z {\\left(\\frac{e_{1}}{\\sqrt{e_{1} + e_{2}}} + \\frac{e_{2}}{\\sqrt{e_{1} + e_{2}}}\\right)} + \\frac{e_{2}^{\\frac{3}{2}} t}{3 \\, \\sqrt{e_{1} + e_{2}}} + \\frac{e_{1}^{\\frac{3}{2}} x}{3 \\, \\sqrt{e_{1} + e_{2}}} \\\\\n",
       "\\frac{1}{3} \\, \\sqrt{e_{1} + e_{2}} y {\\left(\\frac{e_{1}}{\\sqrt{e_{1} + e_{2}}} + \\frac{e_{2}}{\\sqrt{e_{1} + e_{2}}}\\right)} + \\frac{1}{3} \\, \\sqrt{e_{1} + e_{2}} z {\\left(\\frac{e_{1}}{\\sqrt{e_{1} + e_{2}}} + \\frac{e_{2}}{\\sqrt{e_{1} + e_{2}}}\\right)} + \\frac{e_{2}^{\\frac{3}{2}} t}{3 \\, \\sqrt{e_{1} + e_{2}}} + \\frac{e_{1}^{\\frac{3}{2}} x}{3 \\, \\sqrt{e_{1} + e_{2}}} \\\\\n",
       "\\frac{1}{3} \\, e_{2} t + \\frac{1}{3} \\, \\sqrt{e_{1} + e_{2}} \\sqrt{e_{2}} y + \\frac{1}{3} \\, \\sqrt{e_{1} + e_{2}} \\sqrt{e_{2}} z\n",
       "\\end{array}\\right)$"
      ],
      "text/plain": [
       "[                                                                                                                            1/3*e_1*x + 1/3*sqrt(e_1 + e_2)*sqrt(e_1)*y + 1/3*sqrt(e_1 + e_2)*sqrt(e_1)*z]\n",
       "[1/3*sqrt(e_1 + e_2)*y*(e_1/sqrt(e_1 + e_2) + e_2/sqrt(e_1 + e_2)) + 1/3*sqrt(e_1 + e_2)*z*(e_1/sqrt(e_1 + e_2) + e_2/sqrt(e_1 + e_2)) + 1/3*e_2^(3/2)*t/sqrt(e_1 + e_2) + 1/3*e_1^(3/2)*x/sqrt(e_1 + e_2)]\n",
       "[1/3*sqrt(e_1 + e_2)*y*(e_1/sqrt(e_1 + e_2) + e_2/sqrt(e_1 + e_2)) + 1/3*sqrt(e_1 + e_2)*z*(e_1/sqrt(e_1 + e_2) + e_2/sqrt(e_1 + e_2)) + 1/3*e_2^(3/2)*t/sqrt(e_1 + e_2) + 1/3*e_1^(3/2)*x/sqrt(e_1 + e_2)]\n",
       "[                                                                                                                            1/3*e_2*t + 1/3*sqrt(e_1 + e_2)*sqrt(e_2)*y + 1/3*sqrt(e_1 + e_2)*sqrt(e_2)*z]"
      ]
     },
     "execution_count": 12,
     "metadata": {},
     "output_type": "execute_result"
    }
   ],
   "source": [
    "Dv_m12 * H * W * De_m * H.transpose() * Dv_12 * X"
   ]
  },
  {
   "cell_type": "markdown",
   "id": "20a6611d-9c82-4e10-80e7-bcc5089ce2c5",
   "metadata": {},
   "source": [
    "New equation:\n",
    "$$\n",
    "X_{HG}^{(l)} = D_v^{-1/2}H W^{(l)} D^{-1}_e H^T D^{-1/2} X_{HG}^{(l-1)}\n",
    "$$"
   ]
  },
  {
   "cell_type": "code",
   "execution_count": 13,
   "id": "096eecdd-67bc-47a0-be98-e9442501cce1",
   "metadata": {},
   "outputs": [
    {
     "data": {
      "text/html": [
       "<html>\\(\\displaystyle \\left(\\begin{array}{r}\n",
       "\\frac{1}{3} \\, x + \\frac{\\sqrt{e_{1}} y}{3 \\, \\sqrt{e_{1} + e_{2}}} + \\frac{\\sqrt{e_{1}} z}{3 \\, \\sqrt{e_{1} + e_{2}}} \\\\\n",
       "\\frac{y {\\left(\\frac{e_{1}}{\\sqrt{e_{1} + e_{2}}} + \\frac{e_{2}}{\\sqrt{e_{1} + e_{2}}}\\right)}}{3 \\, \\sqrt{e_{1} + e_{2}}} + \\frac{z {\\left(\\frac{e_{1}}{\\sqrt{e_{1} + e_{2}}} + \\frac{e_{2}}{\\sqrt{e_{1} + e_{2}}}\\right)}}{3 \\, \\sqrt{e_{1} + e_{2}}} + \\frac{\\sqrt{e_{2}} t}{3 \\, \\sqrt{e_{1} + e_{2}}} + \\frac{\\sqrt{e_{1}} x}{3 \\, \\sqrt{e_{1} + e_{2}}} \\\\\n",
       "\\frac{y {\\left(\\frac{e_{1}}{\\sqrt{e_{1} + e_{2}}} + \\frac{e_{2}}{\\sqrt{e_{1} + e_{2}}}\\right)}}{3 \\, \\sqrt{e_{1} + e_{2}}} + \\frac{z {\\left(\\frac{e_{1}}{\\sqrt{e_{1} + e_{2}}} + \\frac{e_{2}}{\\sqrt{e_{1} + e_{2}}}\\right)}}{3 \\, \\sqrt{e_{1} + e_{2}}} + \\frac{\\sqrt{e_{2}} t}{3 \\, \\sqrt{e_{1} + e_{2}}} + \\frac{\\sqrt{e_{1}} x}{3 \\, \\sqrt{e_{1} + e_{2}}} \\\\\n",
       "\\frac{1}{3} \\, t + \\frac{\\sqrt{e_{2}} y}{3 \\, \\sqrt{e_{1} + e_{2}}} + \\frac{\\sqrt{e_{2}} z}{3 \\, \\sqrt{e_{1} + e_{2}}}\n",
       "\\end{array}\\right)\\)</html>"
      ],
      "text/latex": [
       "$\\displaystyle \\left(\\begin{array}{r}\n",
       "\\frac{1}{3} \\, x + \\frac{\\sqrt{e_{1}} y}{3 \\, \\sqrt{e_{1} + e_{2}}} + \\frac{\\sqrt{e_{1}} z}{3 \\, \\sqrt{e_{1} + e_{2}}} \\\\\n",
       "\\frac{y {\\left(\\frac{e_{1}}{\\sqrt{e_{1} + e_{2}}} + \\frac{e_{2}}{\\sqrt{e_{1} + e_{2}}}\\right)}}{3 \\, \\sqrt{e_{1} + e_{2}}} + \\frac{z {\\left(\\frac{e_{1}}{\\sqrt{e_{1} + e_{2}}} + \\frac{e_{2}}{\\sqrt{e_{1} + e_{2}}}\\right)}}{3 \\, \\sqrt{e_{1} + e_{2}}} + \\frac{\\sqrt{e_{2}} t}{3 \\, \\sqrt{e_{1} + e_{2}}} + \\frac{\\sqrt{e_{1}} x}{3 \\, \\sqrt{e_{1} + e_{2}}} \\\\\n",
       "\\frac{y {\\left(\\frac{e_{1}}{\\sqrt{e_{1} + e_{2}}} + \\frac{e_{2}}{\\sqrt{e_{1} + e_{2}}}\\right)}}{3 \\, \\sqrt{e_{1} + e_{2}}} + \\frac{z {\\left(\\frac{e_{1}}{\\sqrt{e_{1} + e_{2}}} + \\frac{e_{2}}{\\sqrt{e_{1} + e_{2}}}\\right)}}{3 \\, \\sqrt{e_{1} + e_{2}}} + \\frac{\\sqrt{e_{2}} t}{3 \\, \\sqrt{e_{1} + e_{2}}} + \\frac{\\sqrt{e_{1}} x}{3 \\, \\sqrt{e_{1} + e_{2}}} \\\\\n",
       "\\frac{1}{3} \\, t + \\frac{\\sqrt{e_{2}} y}{3 \\, \\sqrt{e_{1} + e_{2}}} + \\frac{\\sqrt{e_{2}} z}{3 \\, \\sqrt{e_{1} + e_{2}}}\n",
       "\\end{array}\\right)$"
      ],
      "text/plain": [
       "[                                                                                                                                1/3*x + 1/3*sqrt(e_1)*y/sqrt(e_1 + e_2) + 1/3*sqrt(e_1)*z/sqrt(e_1 + e_2)]\n",
       "[1/3*y*(e_1/sqrt(e_1 + e_2) + e_2/sqrt(e_1 + e_2))/sqrt(e_1 + e_2) + 1/3*z*(e_1/sqrt(e_1 + e_2) + e_2/sqrt(e_1 + e_2))/sqrt(e_1 + e_2) + 1/3*sqrt(e_2)*t/sqrt(e_1 + e_2) + 1/3*sqrt(e_1)*x/sqrt(e_1 + e_2)]\n",
       "[1/3*y*(e_1/sqrt(e_1 + e_2) + e_2/sqrt(e_1 + e_2))/sqrt(e_1 + e_2) + 1/3*z*(e_1/sqrt(e_1 + e_2) + e_2/sqrt(e_1 + e_2))/sqrt(e_1 + e_2) + 1/3*sqrt(e_2)*t/sqrt(e_1 + e_2) + 1/3*sqrt(e_1)*x/sqrt(e_1 + e_2)]\n",
       "[                                                                                                                                1/3*t + 1/3*sqrt(e_2)*y/sqrt(e_1 + e_2) + 1/3*sqrt(e_2)*z/sqrt(e_1 + e_2)]"
      ]
     },
     "execution_count": 13,
     "metadata": {},
     "output_type": "execute_result"
    }
   ],
   "source": [
    "Dv_m12 * H * W * De_m * H.transpose() * Dv_m12 * X"
   ]
  }
 ],
 "metadata": {
  "kernelspec": {
   "display_name": "SageMath 10.3",
   "language": "sage",
   "name": "sagemath"
  },
  "language_info": {
   "codemirror_mode": {
    "name": "ipython",
    "version": 3
   },
   "file_extension": ".py",
   "mimetype": "text/x-python",
   "name": "python",
   "nbconvert_exporter": "python",
   "pygments_lexer": "ipython3",
   "version": "3.12.3"
  }
 },
 "nbformat": 4,
 "nbformat_minor": 5
}
